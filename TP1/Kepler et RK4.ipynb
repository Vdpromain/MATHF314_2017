{
 "cells": [
  {
   "cell_type": "markdown",
   "metadata": {},
   "source": [
    "# Travail personnel 1 : Kepler et RK4\n",
    "#### Cordier Alix & Vandepopeliere Romain - BA3 PHYS"
   ]
  },
  {
   "cell_type": "markdown",
   "metadata": {},
   "source": [
    "## Mise en situation\n",
    "Les première étapes consisteront à importer les librairies requises et ensuite d'implémenter les valeurs des constantes et des conditions initiales. Pour ces dernières nous avons choisi de placer le centre de la terre en $(0,0)$ du plan $xy$, d'imaginer le périhélie vers les $x$ négatifs et de choisir la vitesse initiale dirigée vers les $y$ positifs comme sur le schéma de l'énoncé."
   ]
  },
  {
   "cell_type": "markdown",
   "metadata": {},
   "source": [
    "<img src=\"figs/ellipse.png\" alt=\"Drawing\" style=\"width: 400px;\"/>"
   ]
  },
  {
   "cell_type": "code",
   "execution_count": 32,
   "metadata": {
    "collapsed": true
   },
   "outputs": [],
   "source": [
    "from math import sin,cos\n",
    "import numpy\n",
    "from matplotlib import pyplot\n",
    "%matplotlib inline\n",
    "from matplotlib  import rcParams\n",
    "rcParams['font.family'] = 'serif'\n",
    "rcParams['font.size'] = 16"
   ]
  },
  {
   "cell_type": "code",
   "execution_count": 77,
   "metadata": {
    "collapsed": false
   },
   "outputs": [],
   "source": [
    "##Valeurs des constantes\n",
    "G=6.67403*10**-11   #m^3.kg^-1.s^-2  \n",
    "mT=5.972*10**24     #kg              ##masse de la Terre\n",
    "mL=7.348*10**22     #kg              ##masse de la Lune\n",
    "\n",
    "##Conditions initiales\n",
    "x0=-362600000.0     #m\n",
    "y0=0.0              #m\n",
    "vx0=0.0             #m.s^-1\n",
    "vy0=1083.4          #m.s^-1"
   ]
  },
  {
   "cell_type": "markdown",
   "metadata": {},
   "source": [
    "En plaçant le centre de la Terre en $(0,0)$ et celui de la Lune en $(x,y)$, on obtient le système d'équations : \n",
    "$$ \\frac{d^2x}{dt^2} = - \\frac{Gm_T}{(x^2+y^2)^{3/2}} x   $$\n",
    "$$ \\frac{d^2y}{dt^2} = - \\frac{Gm_T}{(x^2+y^2)^{3/2}} y   $$\n",
    "puisque la Terre est fixe dans son référentiel.\n",
    "Afin d'avoir des équations du premier ordre, il est judicieux d'introduire les vitesses : \n",
    "$$\\frac{dx}{dt} = v_x $$\n",
    "$$\\frac{dy}{dt} = v_y $$\n",
    "$$ \\frac{dv_x}{dt} = - \\frac{Gm_T}{(x^2+y^2)^{3/2}} x   $$\n",
    "$$ \\frac{dv_y}{dt} = - \\frac{Gm_T}{(x^2+y^2)^{3/2}} y   $$\n",
    "\n",
    "Il est ensuite intéressant de créer un vecteur $\\vec{u}(t)$ tel que $$\\vec{u}(t) = \\begin{pmatrix} x\\\\y\\\\v_x\\\\v_y \\end{pmatrix}. $$\n",
    "En vue du système des 4 équations précédentes, le vecteur dérivé $\\vec{u}'(t)$ sera comme suit : $$\\vec{u}'(t) = \\begin{pmatrix} v_x\\\\v_y\\\\- \\frac{Gm_T}{(x^2+y^2)^{3/2}} x   \\\\ - \\frac{Gm_T}{(x^2+y^2)^{3/2}} y\\end{pmatrix}. $$"
   ]
  },
  {
   "cell_type": "markdown",
   "metadata": {},
   "source": [
    "## Question 1"
   ]
  },
  {
   "cell_type": "markdown",
   "metadata": {},
   "source": [
    "Avant de commencer, implémentons la méthode Runge-Kutta 4. "
   ]
  },
  {
   "cell_type": "code",
   "execution_count": 3,
   "metadata": {
    "collapsed": false
   },
   "outputs": [],
   "source": [
    "def rk4_step(u,f,dt):\n",
    "    k1=f(u)\n",
    "    k2=f(u+dt*k1/2)\n",
    "    k3=f(u+dt*k2/2)\n",
    "    k4=f(u+dt*k3)\n",
    "    return u+(k1+2*k2+2*k3+k4)*dt/6"
   ]
  },
  {
   "cell_type": "markdown",
   "metadata": {},
   "source": [
    "Ensuite, il est intéressant d'implémenter la fonction $$f(\\vec{u})=\\vec{u}'$$."
   ]
  },
  {
   "cell_type": "code",
   "execution_count": 78,
   "metadata": {
    "collapsed": true
   },
   "outputs": [],
   "source": [
    "def f(u):\n",
    "    x=u[0]\n",
    "    y=u[1]\n",
    "    vx=u[2]\n",
    "    vy=u[3]\n",
    "    r3=(x**2+y**2)**(3/2)                 #Calcul du coefficient quotient avant pour éviter de le faire N fois de trop\n",
    "    c=-G*mT/r3\n",
    "    return numpy.array([vx,vy,c*x,c*y])"
   ]
  },
  {
   "cell_type": "markdown",
   "metadata": {},
   "source": [
    "Sachant que le période de révolution dans la lune est un peu inférieure à 30 jours, on choisit une période de 30 jours pour être sûrs qu'il y a aura au moins une révolution entière."
   ]
  },
  {
   "cell_type": "code",
   "execution_count": 76,
   "metadata": {
    "collapsed": true
   },
   "outputs": [],
   "source": [
    "dt=1            #seconde\n",
    "T=86400*30      #30 jours\n",
    "N=int(T/dt)+1   #nombre de time steps"
   ]
  },
  {
   "cell_type": "code",
   "execution_count": 185,
   "metadata": {
    "collapsed": true
   },
   "outputs": [],
   "source": [
    "u=numpy.empty((N,4))\n",
    "u[0]=numpy.array([x0,y0,vx0,vy0])  #en t=0, il s'agit des conditions initiales"
   ]
  },
  {
   "cell_type": "code",
   "execution_count": 13,
   "metadata": {
    "collapsed": true
   },
   "outputs": [],
   "source": [
    "for t in range(N-1):               #exécution de la résolution par RK4, la méthode lourde au niveau calculatoire \n",
    "    u[t+1]=rk4_step(u[t],f,dt)     #et le nombre conséquent d'itérations font que cela prend un petit temps."
   ]
  },
  {
   "cell_type": "code",
   "execution_count": 14,
   "metadata": {
    "collapsed": true
   },
   "outputs": [],
   "source": [
    "x_traj=u[:,0]\n",
    "y_traj=u[:,1]"
   ]
  },
  {
   "cell_type": "code",
   "execution_count": 186,
   "metadata": {
    "collapsed": false
   },
   "outputs": [
    {
     "data": {
      "text/plain": [
       "[<matplotlib.lines.Line2D at 0x2da27420240>]"
      ]
     },
     "execution_count": 186,
     "metadata": {},
     "output_type": "execute_result"
    },
    {
     "data": {
      "image/png": "[encoded data removed]",
      "text/plain": [
       "<matplotlib.figure.Figure at 0x2da1c8ebba8>"
      ]
     },
     "metadata": {},
     "output_type": "display_data"
    }
   ],
   "source": [
    "pyplot.figure(figsize=(10,10))\n",
    "pyplot.grid(True)\n",
    "pyplot.xlabel('$x$')\n",
    "pyplot.ylabel('$y$')\n",
    "pyplot.title('Orbite lunaire autour de la Terre',fontsize=20)\n",
    "pyplot.plot (x_traj,y_traj, 'r--',lw=1)"
   ]
  },
  {
   "cell_type": "markdown",
   "metadata": {},
   "source": [
    "##### Remarques\n",
    "1) Comme le T est choisi est supérieur à la période, il est normal de voir une superposition de trajectoires après une révolution entière.\n",
    "\n",
    "2) Le calcul d'excentricité et la vérification de la bonne nature de l'ellipse seront effectués après la question 2."
   ]
  },
  {
   "cell_type": "markdown",
   "metadata": {},
   "source": [
    "## Question 2"
   ]
  },
  {
   "cell_type": "markdown",
   "metadata": {},
   "source": [
    "Nous allons maintenant cherhcer les valeurs du demi-grand axe et du demi-petit axe.\n",
    "Pour ce faire, on va calculer la distance qui sépare $x_{min}$ de $x_{max}$ (=grand axe) et ensuite celle qui sépare $y_{min}$ de $y_{max}$ (=petit axe).\n",
    "\n",
    "Comme l'ellipse est centrée verticalement, commençons par les endroits de la trajectoires qui coupent l'axe y pour trouver  $x_{min}$ et $x_{max}$. Pour cela, on va affiner un intervalle de distance autour de $y=0$ jusqu'à ce qu'on n'ait plus que 3 indices, à savoir les 3 intersections que l'on voit sur le graphique (on estime qu'un intervalle de l'ordre de la centaine de mètres est correct par rapport à la longueur des axes de l'ellipse qui seront de l'ordre de la centaine de milliers de kilomètres). Prenons donc les 2 premières intersections."
   ]
  },
  {
   "cell_type": "code",
   "execution_count": 84,
   "metadata": {
    "collapsed": false
   },
   "outputs": [
    {
     "name": "stdout",
     "output_type": "stream",
     "text": [
      "[      0 1207222 2414443]\n"
     ]
    }
   ],
   "source": [
    "idx_extr=numpy.where(abs(y_traj)<=500.0)[0]\n",
    "print(idx_extr)"
   ]
  },
  {
   "cell_type": "code",
   "execution_count": 149,
   "metadata": {
    "collapsed": false
   },
   "outputs": [
    {
     "name": "stdout",
     "output_type": "stream",
     "text": [
      "-362600000.0\n",
      "415360225.55\n"
     ]
    }
   ],
   "source": [
    "xmin=x_traj[idx_extr[0]]\n",
    "xmax=x_traj[idx_extr[1]]\n",
    "print(xmin)\n",
    "print(xmax)"
   ]
  },
  {
   "cell_type": "code",
   "execution_count": 91,
   "metadata": {
    "collapsed": false
   },
   "outputs": [
    {
     "name": "stdout",
     "output_type": "stream",
     "text": [
      "388980112.775\n"
     ]
    }
   ],
   "source": [
    "a=abs(xmin-xmax)/2     #demi-grand axe\n",
    "print(a)"
   ]
  },
  {
   "cell_type": "markdown",
   "metadata": {},
   "source": [
    "Pour le demi-petit axe, c'est plus compliqué car l'ellipse n'est pas centrée horizontalement. On va donc calculer les coordonées du centre de l'ellipse (on peut le faire maintenant qu'on connait $x_{min}$ et $x_{max}$) pour ensuite décaler toute l'ellipse afin de ramener son centre en $(0,0)$ et ainsi pouvoir étudier le petit axe comme on l'a fait pour le grand.  Cette fois, en vue du graphique, on s'attend à trouver les indices de 2 intersections : $y_{min}$ et $y_{max}$."
   ]
  },
  {
   "cell_type": "code",
   "execution_count": 150,
   "metadata": {
    "collapsed": false
   },
   "outputs": [
    {
     "name": "stdout",
     "output_type": "stream",
     "text": [
      "26380112.7749\n"
     ]
    }
   ],
   "source": [
    "centre=(xmax+xmin)/2\n",
    "print(centre)"
   ]
  },
  {
   "cell_type": "code",
   "execution_count": 156,
   "metadata": {
    "collapsed": true
   },
   "outputs": [],
   "source": [
    "x_traj_centree=x_traj-centre   #décalage de l'ellipse vers la droite"
   ]
  },
  {
   "cell_type": "code",
   "execution_count": 157,
   "metadata": {
    "collapsed": false
   },
   "outputs": [
    {
     "name": "stdout",
     "output_type": "stream",
     "text": [
      "[ 577550 1836893]\n"
     ]
    }
   ],
   "source": [
    "idy_extr=numpy.where(abs(x_traj_centree)<=400)[0]\n",
    "print(idy_extr)"
   ]
  },
  {
   "cell_type": "code",
   "execution_count": 158,
   "metadata": {
    "collapsed": true
   },
   "outputs": [],
   "source": [
    "ymin=y_traj[idy_extr[0]]\n",
    "ymax=y_traj[idy_extr[1]]"
   ]
  },
  {
   "cell_type": "code",
   "execution_count": 159,
   "metadata": {
    "collapsed": false
   },
   "outputs": [
    {
     "name": "stdout",
     "output_type": "stream",
     "text": [
      "388084549.788\n"
     ]
    }
   ],
   "source": [
    "b=abs(ymin-ymax)/2     #demi-petit axe\n",
    "print(b)"
   ]
  },
  {
   "cell_type": "markdown",
   "metadata": {},
   "source": [
    "Ainsi, on obtient finalement les résultats pour $a$ le demi-grand axe et $b$ le demi-petit axe : \n",
    "$$a = 3,88980112.10^8m$$\n",
    "$$b = 3,88084549.10^8m$$"
   ]
  },
  {
   "cell_type": "markdown",
   "metadata": {},
   "source": [
    "#### Calcul d'excentricité\n",
    "En connaissant les axes de l'ellipse, l'excentricité $e$ est donnée par : $$e=\\frac{\\sqrt{a^2-b^2}}{a}$$"
   ]
  },
  {
   "cell_type": "code",
   "execution_count": 155,
   "metadata": {
    "collapsed": false
   },
   "outputs": [
    {
     "name": "stdout",
     "output_type": "stream",
     "text": [
      "0.0678186670918\n"
     ]
    }
   ],
   "source": [
    "e=(a**2-b**2)**(1/2)/a\n",
    "print(e)"
   ]
  },
  {
   "cell_type": "markdown",
   "metadata": {},
   "source": [
    "On obtient donc une excentricité valant $$e=0.06782$$"
   ]
  },
  {
   "cell_type": "markdown",
   "metadata": {},
   "source": [
    "#### Tracé théorique"
   ]
  },
  {
   "cell_type": "markdown",
   "metadata": {},
   "source": [
    "Implémentons maintenant le tracé de l'ellipse théorique ayant pour équation : $$r(\\theta)=\\frac{r_{min}(1+\\epsilon)}{1+\\epsilon \\cos\\theta}.$$ \n",
    "avec pour excentricité $$\\epsilon = 0.0549006$$."
   ]
  },
  {
   "cell_type": "code",
   "execution_count": 163,
   "metadata": {
    "collapsed": false
   },
   "outputs": [],
   "source": [
    "epsilon=0.0549006\n",
    "rmin=abs(x0)\n",
    "two_pi=2*3.14159265358979\n",
    "n=10000\n",
    "theta=numpy.linspace(0.0,two_pi,n)\n",
    "x_theo=numpy.empty(n)\n",
    "y_theo=numpy.empty(n)"
   ]
  },
  {
   "cell_type": "code",
   "execution_count": 164,
   "metadata": {
    "collapsed": false
   },
   "outputs": [],
   "source": [
    "for i in range(n):\n",
    "    x_theo[i]=rmin*(1+epsilon)*cos(theta[i])/(1+epsilon*cos(theta[i]))\n",
    "    y_theo[i]=rmin*(1+epsilon)*sin(theta[i])/(1+epsilon*cos(theta[i]))"
   ]
  },
  {
   "cell_type": "code",
   "execution_count": 165,
   "metadata": {
    "collapsed": false
   },
   "outputs": [
    {
     "data": {
      "text/plain": [
       "[<matplotlib.lines.Line2D at 0x2da1c8b1c18>]"
      ]
     },
     "execution_count": 165,
     "metadata": {},
     "output_type": "execute_result"
    },
    {
     "data": {
      "image/png": "[encoded data removed]",
      "text/plain": [
       "<matplotlib.figure.Figure at 0x2da1849ff28>"
      ]
     },
     "metadata": {},
     "output_type": "display_data"
    }
   ],
   "source": [
    "pyplot.figure(figsize=(12,8))\n",
    "pyplot.grid(True)\n",
    "pyplot.xlabel('$x$')\n",
    "pyplot.ylabel('$y$')\n",
    "pyplot.title('Orbites',fontsize=20)\n",
    "pyplot.plot (x_theo,y_theo, 'b--',lw=1)"
   ]
  },
  {
   "cell_type": "markdown",
   "metadata": {},
   "source": [
    "#### Comparaison des deux ellipses"
   ]
  },
  {
   "cell_type": "markdown",
   "metadata": {},
   "source": [
    "Pour qu'une comparaison sur le même graphique ait un sens, il faut recentrer les deux ellipses. Le travail a déjà été réalisé pour l'ellipse \"expérimentale\"; il faut donc appliquer le même procédé pour la théorique (on remarque que, de nouveau, l'ellipse est déjà centrée verticalement)."
   ]
  },
  {
   "cell_type": "code",
   "execution_count": 179,
   "metadata": {
    "collapsed": false
   },
   "outputs": [
    {
     "name": "stdout",
     "output_type": "stream",
     "text": [
      "[   0 4999 5000 9999]\n"
     ]
    }
   ],
   "source": [
    "idx_extr_th=numpy.where(abs(y_theo)<=210000.0)[0]     #l'intervalle est plus grand car il y a beaucoup moins de points \n",
    "print(idx_extr_th)                                    #qui constituent la trajectoire"
   ]
  },
  {
   "cell_type": "code",
   "execution_count": 180,
   "metadata": {
    "collapsed": true
   },
   "outputs": [],
   "source": [
    "xmin_th=x_theo[idx_extr_th[0]]\n",
    "xmax_th=x_theo[idx_extr_th[1]]"
   ]
  },
  {
   "cell_type": "code",
   "execution_count": 181,
   "metadata": {
    "collapsed": false
   },
   "outputs": [
    {
     "name": "stdout",
     "output_type": "stream",
     "text": [
      "-21063337.435\n"
     ]
    }
   ],
   "source": [
    "centre_th=(xmax_th+xmin_th)/2\n",
    "print(centre_th)"
   ]
  },
  {
   "cell_type": "code",
   "execution_count": 182,
   "metadata": {
    "collapsed": true
   },
   "outputs": [],
   "source": [
    "x_theo_centree=x_theo-centre_th"
   ]
  },
  {
   "cell_type": "code",
   "execution_count": 184,
   "metadata": {
    "collapsed": false
   },
   "outputs": [
    {
     "data": {
      "text/plain": [
       "<matplotlib.legend.Legend at 0x2da26e95198>"
      ]
     },
     "execution_count": 184,
     "metadata": {},
     "output_type": "execute_result"
    },
    {
     "data": {
      "image/png": "[encoded data removed]",
      "text/plain": [
       "<matplotlib.figure.Figure at 0x2da18d859e8>"
      ]
     },
     "metadata": {},
     "output_type": "display_data"
    }
   ],
   "source": [
    "pyplot.figure(figsize=(10,10))\n",
    "pyplot.grid(True)\n",
    "pyplot.xlabel('$x$')\n",
    "pyplot.ylabel('$y$')\n",
    "pyplot.title('Orbites',fontsize=20)\n",
    "pyplot.plot (x_theo_centree,y_theo, 'b--',lw=1,label='Théorique')\n",
    "pyplot.plot (x_traj_centree,y_traj, 'r--',lw=1,label='RK4')\n",
    "pyplot.legend()"
   ]
  },
  {
   "cell_type": "markdown",
   "metadata": {},
   "source": [
    "Les deux ellipses sont donc très semblables. Le petit décalage entre les deux est probablement uniquement un effet graphique ou alors est dû à de l'imprécision lors du procédé pour les recentrer."
   ]
  },
  {
   "cell_type": "markdown",
   "metadata": {},
   "source": [
    "## Question 3 "
   ]
  },
  {
   "cell_type": "markdown",
   "metadata": {},
   "source": [
    "La réponse à cette question est directement donnée par ce qu'on a fait au début de la question 2. En effet, on a trouvé les indices des 3 intersections de la trajectoire avec l'axe $x$ et il suffit donc de comparer l'indice de la 1ère intersection avec celui de la 3ème. Vu les conditions initiales, il est logique que l'indice de la première intersection soit 0 et que la période soit donc donnée par l'indice de la 3ème intersection (le pas $dt$ valant 1 seconde, l'indice est donc direcement le nombre de secondes écoulées depuis l'instant 0)."
   ]
  },
  {
   "cell_type": "code",
   "execution_count": 95,
   "metadata": {
    "collapsed": false
   },
   "outputs": [
    {
     "name": "stdout",
     "output_type": "stream",
     "text": [
      "28.5395153664\n"
     ]
    }
   ],
   "source": [
    "periode=idx_extr[2]\n",
    "periode_en_jours=periode/84600\n",
    "print(periode_en_jours)"
   ]
  },
  {
   "cell_type": "markdown",
   "metadata": {},
   "source": [
    "La période $T$ est donc $$T=28,53951 j.$$"
   ]
  },
  {
   "cell_type": "code",
   "execution_count": null,
   "metadata": {
    "collapsed": true
   },
   "outputs": [],
   "source": []
  }
 ],
 "metadata": {
  "kernelspec": {
   "display_name": "Python 3",
   "language": "python",
   "name": "python3"
  },
  "language_info": {
   "codemirror_mode": {
    "name": "ipython",
    "version": 3
   },
   "file_extension": ".py",
   "mimetype": "text/x-python",
   "name": "python",
   "nbconvert_exporter": "python",
   "pygments_lexer": "ipython3",
   "version": "3.6.0"
  }
 },
 "nbformat": 4,
 "nbformat_minor": 2
}
